{
 "cells": [
  {
   "cell_type": "code",
   "execution_count": 55,
   "metadata": {},
   "outputs": [],
   "source": [
    "import pandas as pd\n",
    "import numpy as np\n",
    "import os\n",
    "import math\n",
    "\n",
    "%matplotlib inline\n",
    "import matplotlib.pyplot as plt"
   ]
  },
  {
   "cell_type": "code",
   "execution_count": 56,
   "metadata": {},
   "outputs": [
    {
     "data": {
      "text/html": [
       "<div>\n",
       "<style scoped>\n",
       "    .dataframe tbody tr th:only-of-type {\n",
       "        vertical-align: middle;\n",
       "    }\n",
       "\n",
       "    .dataframe tbody tr th {\n",
       "        vertical-align: top;\n",
       "    }\n",
       "\n",
       "    .dataframe thead th {\n",
       "        text-align: right;\n",
       "    }\n",
       "</style>\n",
       "<table border=\"1\" class=\"dataframe\">\n",
       "  <thead>\n",
       "    <tr style=\"text-align: right;\">\n",
       "      <th></th>\n",
       "      <th>HCPCS Description</th>\n",
       "      <th>Place of Service</th>\n",
       "      <th>HCPCS Drug Indicator</th>\n",
       "      <th>Average Submitted Charge Amount</th>\n",
       "    </tr>\n",
       "  </thead>\n",
       "  <tbody>\n",
       "    <tr>\n",
       "      <th>0</th>\n",
       "      <td>Creation of eye fluid drainage tracts in iris ...</td>\n",
       "      <td>F</td>\n",
       "      <td>N</td>\n",
       "      <td>1120.83</td>\n",
       "    </tr>\n",
       "    <tr>\n",
       "      <th>1</th>\n",
       "      <td>Repair of nerve using vein graft</td>\n",
       "      <td>F</td>\n",
       "      <td>N</td>\n",
       "      <td>2674.01</td>\n",
       "    </tr>\n",
       "    <tr>\n",
       "      <th>2</th>\n",
       "      <td>Chemical treatment of acne</td>\n",
       "      <td>F</td>\n",
       "      <td>N</td>\n",
       "      <td>137.89</td>\n",
       "    </tr>\n",
       "    <tr>\n",
       "      <th>3</th>\n",
       "      <td>Subsequent observation care, typically 25 minu...</td>\n",
       "      <td>F</td>\n",
       "      <td>N</td>\n",
       "      <td>159.32</td>\n",
       "    </tr>\n",
       "    <tr>\n",
       "      <th>4</th>\n",
       "      <td>Repair of esophageal sphincter using an endosc...</td>\n",
       "      <td>F</td>\n",
       "      <td>N</td>\n",
       "      <td>5885.87</td>\n",
       "    </tr>\n",
       "  </tbody>\n",
       "</table>\n",
       "</div>"
      ],
      "text/plain": [
       "                                   HCPCS Description Place of Service  \\\n",
       "0  Creation of eye fluid drainage tracts in iris ...                F   \n",
       "1                   Repair of nerve using vein graft                F   \n",
       "2                         Chemical treatment of acne                F   \n",
       "3  Subsequent observation care, typically 25 minu...                F   \n",
       "4  Repair of esophageal sphincter using an endosc...                F   \n",
       "\n",
       "  HCPCS Drug Indicator  Average Submitted Charge Amount  \n",
       "0                    N                          1120.83  \n",
       "1                    N                          2674.01  \n",
       "2                    N                           137.89  \n",
       "3                    N                           159.32  \n",
       "4                    N                          5885.87  "
      ]
     },
     "execution_count": 56,
     "metadata": {},
     "output_type": "execute_result"
    }
   ],
   "source": [
    "d15 = pd.read_csv('HCPCS_2015.csv')[['HCPCS Description', 'Place of Service', 'HCPCS Drug Indicator', 'Average Submitted Charge Amount']]\n",
    "d16 = pd.read_csv('HCPCS_2016.csv')[['HCPCS Description', 'Place of Service', 'HCPCS Drug Indicator', 'Average Submitted Charge Amount']]\n",
    "d17 = pd.read_csv('HCPCS_2017.csv')[['HCPCS Description', 'Place of Service', 'HCPCS Drug Indicator', 'Average Submitted Charge Amount']]\n",
    "\n",
    "d16.head()"
   ]
  },
  {
   "cell_type": "code",
   "execution_count": 57,
   "metadata": {},
   "outputs": [],
   "source": [
    "d15 = d15.loc[(d15['Place of Service'] == 'F') & (d15['HCPCS Drug Indicator'] == 'N')][['HCPCS Description', 'Place of Service', 'Average Submitted Charge Amount']]\n",
    "d16 = d16.loc[(d16['Place of Service'] == 'F') & (d16['HCPCS Drug Indicator'] == 'N')][['HCPCS Description', 'Place of Service', 'Average Submitted Charge Amount']]\n",
    "d17 = d17.loc[(d17['Place of Service'] == 'F') & (d17['HCPCS Drug Indicator'] == 'N')][['HCPCS Description', 'Place of Service', 'Average Submitted Charge Amount']]"
   ]
  },
  {
   "cell_type": "code",
   "execution_count": 58,
   "metadata": {},
   "outputs": [
    {
     "data": {
      "text/html": [
       "<div>\n",
       "<style scoped>\n",
       "    .dataframe tbody tr th:only-of-type {\n",
       "        vertical-align: middle;\n",
       "    }\n",
       "\n",
       "    .dataframe tbody tr th {\n",
       "        vertical-align: top;\n",
       "    }\n",
       "\n",
       "    .dataframe thead th {\n",
       "        text-align: right;\n",
       "    }\n",
       "</style>\n",
       "<table border=\"1\" class=\"dataframe\">\n",
       "  <thead>\n",
       "    <tr style=\"text-align: right;\">\n",
       "      <th></th>\n",
       "      <th>description</th>\n",
       "      <th>place</th>\n",
       "      <th>charged_amount</th>\n",
       "    </tr>\n",
       "  </thead>\n",
       "  <tbody>\n",
       "    <tr>\n",
       "      <th>0</th>\n",
       "      <td>Bypass of diseased or blocked artery (upper le...</td>\n",
       "      <td>F</td>\n",
       "      <td>4327.11</td>\n",
       "    </tr>\n",
       "    <tr>\n",
       "      <th>1</th>\n",
       "      <td>Laser destruction of anal growths</td>\n",
       "      <td>F</td>\n",
       "      <td>1082.08</td>\n",
       "    </tr>\n",
       "    <tr>\n",
       "      <th>2</th>\n",
       "      <td>Injection of X-ray contrast material for ultra...</td>\n",
       "      <td>F</td>\n",
       "      <td>156.74</td>\n",
       "    </tr>\n",
       "    <tr>\n",
       "      <th>3</th>\n",
       "      <td>Natriuretic peptide (heart and blood vessel pr...</td>\n",
       "      <td>F</td>\n",
       "      <td>98.41</td>\n",
       "    </tr>\n",
       "    <tr>\n",
       "      <th>4</th>\n",
       "      <td>Screening papanicolaou smear, cervical or vagi...</td>\n",
       "      <td>F</td>\n",
       "      <td>89.22</td>\n",
       "    </tr>\n",
       "  </tbody>\n",
       "</table>\n",
       "</div>"
      ],
      "text/plain": [
       "                                         description place  charged_amount\n",
       "0  Bypass of diseased or blocked artery (upper le...     F         4327.11\n",
       "1                  Laser destruction of anal growths     F         1082.08\n",
       "2  Injection of X-ray contrast material for ultra...     F          156.74\n",
       "3  Natriuretic peptide (heart and blood vessel pr...     F           98.41\n",
       "4  Screening papanicolaou smear, cervical or vagi...     F           89.22"
      ]
     },
     "execution_count": 58,
     "metadata": {},
     "output_type": "execute_result"
    }
   ],
   "source": [
    "manifest = pd.concat([d15, d16, d17])\n",
    "\n",
    "manifest['description'] = manifest.pop('HCPCS Description')\n",
    "manifest['place'] = manifest.pop('Place of Service')\n",
    "manifest['charged_amount'] = manifest.pop('Average Submitted Charge Amount')\n",
    "\n",
    "# shuffle dataframe\n",
    "manifest = manifest.sample(frac=1).reset_index(drop=True)\n",
    "\n",
    "manifest.head()"
   ]
  },
  {
   "cell_type": "code",
   "execution_count": 59,
   "metadata": {},
   "outputs": [
    {
     "data": {
      "text/html": [
       "<div>\n",
       "<style scoped>\n",
       "    .dataframe tbody tr th:only-of-type {\n",
       "        vertical-align: middle;\n",
       "    }\n",
       "\n",
       "    .dataframe tbody tr th {\n",
       "        vertical-align: top;\n",
       "    }\n",
       "\n",
       "    .dataframe thead th {\n",
       "        text-align: right;\n",
       "    }\n",
       "</style>\n",
       "<table border=\"1\" class=\"dataframe\">\n",
       "  <thead>\n",
       "    <tr style=\"text-align: right;\">\n",
       "      <th></th>\n",
       "      <th>charged_amount</th>\n",
       "    </tr>\n",
       "  </thead>\n",
       "  <tbody>\n",
       "    <tr>\n",
       "      <th>count</th>\n",
       "      <td>14081.000000</td>\n",
       "    </tr>\n",
       "    <tr>\n",
       "      <th>mean</th>\n",
       "      <td>2134.048140</td>\n",
       "    </tr>\n",
       "    <tr>\n",
       "      <th>std</th>\n",
       "      <td>2274.369406</td>\n",
       "    </tr>\n",
       "    <tr>\n",
       "      <th>min</th>\n",
       "      <td>1.150000</td>\n",
       "    </tr>\n",
       "    <tr>\n",
       "      <th>25%</th>\n",
       "      <td>428.610000</td>\n",
       "    </tr>\n",
       "    <tr>\n",
       "      <th>50%</th>\n",
       "      <td>1580.830000</td>\n",
       "    </tr>\n",
       "    <tr>\n",
       "      <th>75%</th>\n",
       "      <td>3017.540000</td>\n",
       "    </tr>\n",
       "    <tr>\n",
       "      <th>max</th>\n",
       "      <td>31037.000000</td>\n",
       "    </tr>\n",
       "  </tbody>\n",
       "</table>\n",
       "</div>"
      ],
      "text/plain": [
       "       charged_amount\n",
       "count    14081.000000\n",
       "mean      2134.048140\n",
       "std       2274.369406\n",
       "min          1.150000\n",
       "25%        428.610000\n",
       "50%       1580.830000\n",
       "75%       3017.540000\n",
       "max      31037.000000"
      ]
     },
     "execution_count": 59,
     "metadata": {},
     "output_type": "execute_result"
    }
   ],
   "source": [
    "manifest.describe()"
   ]
  },
  {
   "cell_type": "code",
   "execution_count": 60,
   "metadata": {},
   "outputs": [
    {
     "name": "stdout",
     "output_type": "stream",
     "text": [
      "(array([3106., 1148., 1049., 1028.,  908.,  947.,  898.,  841.,  641.,\n",
      "        582.,  488.,  379.,  312.,  247.,  198.,  178.,  136.,  130.,\n",
      "        108.,   81.,   67.,   75.,   51.,   38.,   41.,   25.,   28.,\n",
      "         21.,   25.,   23.]), array([   23.84      ,   365.35833333,   706.87666667,  1048.395     ,\n",
      "        1389.91333333,  1731.43166667,  2072.95      ,  2414.46833333,\n",
      "        2755.98666667,  3097.505     ,  3439.02333333,  3780.54166667,\n",
      "        4122.06      ,  4463.57833333,  4805.09666667,  5146.615     ,\n",
      "        5488.13333333,  5829.65166667,  6171.17      ,  6512.68833333,\n",
      "        6854.20666667,  7195.725     ,  7537.24333333,  7878.76166667,\n",
      "        8220.28      ,  8561.79833333,  8903.31666667,  9244.835     ,\n",
      "        9586.35333333,  9927.87166667, 10269.39      ]), <a list of 30 Patch objects>)\n"
     ]
    },
    {
     "data": {
      "image/png": "[encoded data removed]",
      "text/plain": [
       "<Figure size 432x288 with 1 Axes>"
      ]
     },
     "metadata": {},
     "output_type": "display_data"
    }
   ],
   "source": [
    "manifest = manifest[(manifest.iloc[:,2] < manifest.iloc[:,2].quantile(.99))&(manifest.iloc[:,2] > manifest.iloc[:,2].quantile(.01))]\n",
    "\n",
    "# plot Average Submitted Charge Amount\n",
    "fig, axs = plt.subplots(1,1, sharey=True)\n",
    "print(axs.hist(manifest['charged_amount'], bins=30))"
   ]
  },
  {
   "cell_type": "code",
   "execution_count": 61,
   "metadata": {},
   "outputs": [
    {
     "name": "stdout",
     "output_type": "stream",
     "text": [
      "Very-Low range is 23.8, 121.9)\n",
      "Low range is [121.9, 660.3)\n",
      "Moderate-Low range is [660.3, 1580.8)\n",
      "Moderate-High range is [1580.8, 2647.1)\n",
      "High range is [2647.1, 4573.3)\n",
      "Very-High range is [4573.3, 10269.4)\n"
     ]
    }
   ],
   "source": [
    "# set 6 different categries\n",
    "labels = ['Very-Low', 'Low', 'Moderate-Low', 'Moderate-High', 'High', 'Very-High']\n",
    "charged_amount_divide = [manifest.iloc[:,2].min(), manifest.iloc[:,2].quantile(.1), manifest.iloc[:,2].quantile(.3), manifest.iloc[:,2].quantile(.5), manifest.iloc[:,2].quantile(.7), manifest.iloc[:,2].quantile(.9), manifest.iloc[:,2].max()]\n",
    "\n",
    "print(f'Very-Low range is {charged_amount_divide[0]:.1f}, {charged_amount_divide[1]:.1f})')\n",
    "print(f'Low range is [{charged_amount_divide[1]:.1f}, {charged_amount_divide[2]:.1f})')\n",
    "print(f'Moderate-Low range is [{charged_amount_divide[2]:.1f}, {charged_amount_divide[3]:.1f})')\n",
    "print(f'Moderate-High range is [{charged_amount_divide[3]:.1f}, {charged_amount_divide[4]:.1f})')\n",
    "print(f'High range is [{charged_amount_divide[4]:.1f}, {charged_amount_divide[5]:.1f})')\n",
    "print(f'Very-High range is [{charged_amount_divide[5]:.1f}, {charged_amount_divide[6]:.1f})')"
   ]
  },
  {
   "cell_type": "code",
   "execution_count": 62,
   "metadata": {},
   "outputs": [
    {
     "data": {
      "text/plain": [
       "Low              2760\n",
       "Moderate-High    2760\n",
       "High             2760\n",
       "Moderate-Low     2759\n",
       "Very-Low         1380\n",
       "Very-High        1379\n",
       "Name: label, dtype: int64"
      ]
     },
     "execution_count": 62,
     "metadata": {},
     "output_type": "execute_result"
    }
   ],
   "source": [
    "def bucket_amt(amount):\n",
    "    for i, amt in enumerate(charged_amount_divide):\n",
    "        if amount < amt:\n",
    "            return labels[i - 1]\n",
    "\n",
    "manifest['label'] = manifest.charged_amount.apply(lambda x: bucket_amt(x))\n",
    "manifest.label.value_counts()"
   ]
  },
  {
   "cell_type": "code",
   "execution_count": 63,
   "metadata": {},
   "outputs": [
    {
     "data": {
      "text/plain": [
       "{'Low': 1656.0,\n",
       " 'Moderate-High': 1656.0,\n",
       " 'High': 1656.0,\n",
       " 'Moderate-Low': 1655.3999999999999,\n",
       " 'Very-Low': 828.0,\n",
       " 'Very-High': 827.4}"
      ]
     },
     "execution_count": 63,
     "metadata": {},
     "output_type": "execute_result"
    }
   ],
   "source": [
    "train_split = 0.6 \n",
    "valid_split = 0.15\n",
    "test_split = 0.25\n",
    "\n",
    "train_samples_per_label = dict(train_split*(manifest.label.value_counts()))\n",
    "valid_samples_per_label = dict(valid_split*(manifest.label.value_counts()))\n",
    "test_samples_per_label = dict(test_split*(manifest.label.value_counts()))\n",
    "\n",
    "train_samples_per_label"
   ]
  },
  {
   "cell_type": "code",
   "execution_count": 64,
   "metadata": {},
   "outputs": [
    {
     "data": {
      "text/plain": [
       "(8278, 2068, 3448, 13799)"
      ]
     },
     "execution_count": 64,
     "metadata": {},
     "output_type": "execute_result"
    }
   ],
   "source": [
    "label_samples = dict()\n",
    "train_df, valid_df, test_df = pd.DataFrame(columns=manifest.columns), pd.DataFrame(columns=manifest.columns), pd.DataFrame(columns=manifest.columns)\n",
    "\n",
    "for label in labels:\n",
    "    label_samples[label] = manifest.loc[manifest.label == label]\n",
    "    train_cutoff = math.floor(train_samples_per_label[label])\n",
    "    valid_cutoff = math.floor(valid_samples_per_label[label])\n",
    "    test_cutoff = math.floor(test_samples_per_label[label])\n",
    "    \n",
    "    train_df = pd.concat([train_df, label_samples[label].iloc[:train_cutoff]])\n",
    "    valid_df = pd.concat([valid_df, label_samples[label].iloc[train_cutoff:train_cutoff + valid_cutoff]])\n",
    "    test_df = pd.concat([test_df, label_samples[label].iloc[-test_cutoff:]])\n",
    "\n",
    "len(train_df), len(valid_df), len(test_df), len(manifest)"
   ]
  },
  {
   "cell_type": "code",
   "execution_count": 74,
   "metadata": {},
   "outputs": [],
   "source": [
    "label_map = dict(map(reversed, enumerate(labels)))\n",
    "\n",
    "train_df['label_id'] = train_df['label'].apply(lambda x: label_map.get(x))\n",
    "valid_df['label_id'] = valid_df['label'].apply(lambda x: label_map.get(x))\n",
    "test_df['label_id'] = test_df['label'].apply(lambda x: label_map.get(x))"
   ]
  },
  {
   "cell_type": "code",
   "execution_count": 75,
   "metadata": {},
   "outputs": [],
   "source": [
    "with open('labels.txt', 'w') as l:\n",
    "    for label in labels: \n",
    "        l.write(label + '\\n')"
   ]
  },
  {
   "cell_type": "code",
   "execution_count": 76,
   "metadata": {},
   "outputs": [],
   "source": [
    "train_df.to_csv('train.csv')\n",
    "valid_df.to_csv('valid.csv')\n",
    "test_df.to_csv('test.csv')"
   ]
  }
 ],
 "metadata": {
  "kernelspec": {
   "display_name": "Python 3",
   "language": "python",
   "name": "python3"
  },
  "language_info": {
   "codemirror_mode": {
    "name": "ipython",
    "version": 3
   },
   "file_extension": ".py",
   "mimetype": "text/x-python",
   "name": "python",
   "nbconvert_exporter": "python",
   "pygments_lexer": "ipython3",
   "version": "3.6.5"
  }
 },
 "nbformat": 4,
 "nbformat_minor": 4
}
