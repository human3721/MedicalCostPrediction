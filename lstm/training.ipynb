{
 "cells": [
  {
   "cell_type": "code",
   "execution_count": 27,
   "metadata": {},
   "outputs": [],
   "source": [
    "import pandas as pd\n",
    "import numpy as np\n",
    "import os, re, pickle as pkl\n",
    "%matplotlib inline\n",
    "import matplotlib.pyplot as plt\n",
    "from collections import Counter\n",
    "import random\n",
    "\n",
    "from keras.preprocessing import text, sequence\n",
    "from keras.preprocessing.text import Tokenizer\n",
    "from keras import Input, Model, layers, optimizers\n",
    "from keras.callbacks import EarlyStopping, ModelCheckpoint, CSVLogger"
   ]
  },
  {
   "cell_type": "code",
   "execution_count": 2,
   "metadata": {},
   "outputs": [
    {
     "data": {
      "text/html": [
       "<div>\n",
       "<style scoped>\n",
       "    .dataframe tbody tr th:only-of-type {\n",
       "        vertical-align: middle;\n",
       "    }\n",
       "\n",
       "    .dataframe tbody tr th {\n",
       "        vertical-align: top;\n",
       "    }\n",
       "\n",
       "    .dataframe thead th {\n",
       "        text-align: right;\n",
       "    }\n",
       "</style>\n",
       "<table border=\"1\" class=\"dataframe\">\n",
       "  <thead>\n",
       "    <tr style=\"text-align: right;\">\n",
       "      <th></th>\n",
       "      <th>Unnamed: 0</th>\n",
       "      <th>description</th>\n",
       "      <th>place</th>\n",
       "      <th>charged_amount</th>\n",
       "      <th>label</th>\n",
       "      <th>label_id</th>\n",
       "    </tr>\n",
       "  </thead>\n",
       "  <tbody>\n",
       "    <tr>\n",
       "      <th>8273</th>\n",
       "      <td>8427</td>\n",
       "      <td>Bypass of diseased or blocked artery (aorta to...</td>\n",
       "      <td>F</td>\n",
       "      <td>6287.77</td>\n",
       "      <td>Very-High</td>\n",
       "      <td>5</td>\n",
       "    </tr>\n",
       "    <tr>\n",
       "      <th>8274</th>\n",
       "      <td>8436</td>\n",
       "      <td>Removal of thyroid and surrounding lymph nodes</td>\n",
       "      <td>F</td>\n",
       "      <td>4779.93</td>\n",
       "      <td>Very-High</td>\n",
       "      <td>5</td>\n",
       "    </tr>\n",
       "    <tr>\n",
       "      <th>8275</th>\n",
       "      <td>8446</td>\n",
       "      <td>Cesarean delivery with pre- and post-delivery ...</td>\n",
       "      <td>F</td>\n",
       "      <td>4933.34</td>\n",
       "      <td>Very-High</td>\n",
       "      <td>5</td>\n",
       "    </tr>\n",
       "    <tr>\n",
       "      <th>8276</th>\n",
       "      <td>8451</td>\n",
       "      <td>Removal of growth of external ear through mast...</td>\n",
       "      <td>F</td>\n",
       "      <td>5864.21</td>\n",
       "      <td>Very-High</td>\n",
       "      <td>5</td>\n",
       "    </tr>\n",
       "    <tr>\n",
       "      <th>8277</th>\n",
       "      <td>8467</td>\n",
       "      <td>Reconstruction of upper eyelid by transfer of ...</td>\n",
       "      <td>F</td>\n",
       "      <td>4726.36</td>\n",
       "      <td>Very-High</td>\n",
       "      <td>5</td>\n",
       "    </tr>\n",
       "  </tbody>\n",
       "</table>\n",
       "</div>"
      ],
      "text/plain": [
       "      Unnamed: 0                                        description place  \\\n",
       "8273        8427  Bypass of diseased or blocked artery (aorta to...     F   \n",
       "8274        8436     Removal of thyroid and surrounding lymph nodes     F   \n",
       "8275        8446  Cesarean delivery with pre- and post-delivery ...     F   \n",
       "8276        8451  Removal of growth of external ear through mast...     F   \n",
       "8277        8467  Reconstruction of upper eyelid by transfer of ...     F   \n",
       "\n",
       "      charged_amount      label  label_id  \n",
       "8273         6287.77  Very-High         5  \n",
       "8274         4779.93  Very-High         5  \n",
       "8275         4933.34  Very-High         5  \n",
       "8276         5864.21  Very-High         5  \n",
       "8277         4726.36  Very-High         5  "
      ]
     },
     "execution_count": 2,
     "metadata": {},
     "output_type": "execute_result"
    }
   ],
   "source": [
    "train_df = pd.read_csv(os.path.join('../data', 'train.csv'))\n",
    "valid_df = pd.read_csv(os.path.join('../data', 'valid.csv'))\n",
    "test_df = pd.read_csv(os.path.join('../data', 'test.csv'))\n",
    "labels = open(os.path.join('../data', 'labels.txt'), 'r').read().splitlines()\n",
    "\n",
    "train_df.tail()"
   ]
  },
  {
   "cell_type": "code",
   "execution_count": 3,
   "metadata": {},
   "outputs": [],
   "source": [
    "def clean_text(rsd):\n",
    "    rsd = str(rsd).lower()\n",
    "    tokens = re.split('\\W+', rsd)\n",
    "    return tokens\n",
    "\n",
    "train_df['desc_clean'] = train_df['description'].apply(clean_text)\n",
    "valid_df['desc_clean'] = valid_df['description'].apply(clean_text)\n",
    "test_df['desc_clean'] = test_df['description'].apply(clean_text)"
   ]
  },
  {
   "cell_type": "code",
   "execution_count": 4,
   "metadata": {},
   "outputs": [
    {
     "data": {
      "text/plain": [
       "['nuclear', 'medicine', 'study', 'of', 'salivary', 'gland']"
      ]
     },
     "execution_count": 4,
     "metadata": {},
     "output_type": "execute_result"
    }
   ],
   "source": [
    "train_df['desc_clean'][10]"
   ]
  },
  {
   "cell_type": "code",
   "execution_count": 5,
   "metadata": {},
   "outputs": [
    {
     "data": {
      "text/plain": [
       "<matplotlib.legend.Legend at 0x7f0a1898eac8>"
      ]
     },
     "execution_count": 5,
     "metadata": {},
     "output_type": "execute_result"
    },
    {
     "data": {
      "image/png": "[encoded data removed]",
      "text/plain": [
       "<Figure size 432x288 with 1 Axes>"
      ]
     },
     "metadata": {},
     "output_type": "display_data"
    }
   ],
   "source": [
    "plt.hist(train_df.desc_clean.apply(len).values, label=\"training\")\n",
    "plt.legend()"
   ]
  },
  {
   "cell_type": "code",
   "execution_count": 6,
   "metadata": {},
   "outputs": [
    {
     "name": "stdout",
     "output_type": "stream",
     "text": [
      "Average Description Length: 9.233027301280503\n",
      "Variance: 20.76219984728557\n"
     ]
    }
   ],
   "source": [
    "print(\"Average Description Length: {}\\nVariance: {}\".format(np.mean(list(map(len, train_df.desc_clean.values))),\n",
    "                                     np.var(list(map(len, train_df.desc_clean.values)))))"
   ]
  },
  {
   "cell_type": "code",
   "execution_count": 7,
   "metadata": {},
   "outputs": [
    {
     "name": "stdout",
     "output_type": "stream",
     "text": [
      "95% Unigram Count Threshold: 1809\n"
     ]
    },
    {
     "data": {
      "image/png": "[encoded data removed]",
      "text/plain": [
       "<Figure size 432x288 with 1 Axes>"
      ]
     },
     "metadata": {},
     "output_type": "display_data"
    }
   ],
   "source": [
    "thresh = 0.95\n",
    "\n",
    "train_cnt = Counter()\n",
    "for desc in train_df['desc_clean']:\n",
    "    for token in desc:\n",
    "        train_cnt[token] += 1\n",
    "        \n",
    "_, tok_cts = zip(*train_cnt.most_common())\n",
    "plt.title('Unigram Distribution')\n",
    "plt.plot(np.cumsum(tok_cts)/np.sum(tok_cts))\n",
    "max_vocab = np.where((np.cumsum(tok_cts)/np.sum(tok_cts)) > 0.99)[0][0]\n",
    "print(\"{}% Unigram Count Threshold: {}\".format(int(thresh*100), max_vocab))"
   ]
  },
  {
   "cell_type": "code",
   "execution_count": 10,
   "metadata": {},
   "outputs": [],
   "source": [
    "desc_length = 20\n",
    "batch_size = 128\n",
    "vocab_size = max_vocab\n",
    "\n",
    "tokenizer = Tokenizer(oov_token = None, num_words = vocab_size)\n",
    "tokenizer.fit_on_texts(train_df.desc_clean)\n",
    "pkl.dump(tokenizer, open('tokenizer.pkl', \"wb\"))"
   ]
  },
  {
   "cell_type": "code",
   "execution_count": 15,
   "metadata": {},
   "outputs": [],
   "source": [
    "import math\n",
    "\n",
    "def batch(iterable, n=1):\n",
    "    l = len(iterable)\n",
    "    for ndx in range(0, l, n):\n",
    "        yield iterable[ndx:min(ndx + n, l)]\n",
    "\n",
    "class DataGenerator:\n",
    "    def __init__(self, manifest_df, description_length, num_classes,\n",
    "                 tokenizer = None, augmenter = None, \n",
    "                 batch_size=batch_size,shuffle=True):\n",
    "        \n",
    "        self.manifest_df = manifest_df.copy(deep=True).reset_index(drop=True)\n",
    "        self.batch_size = batch_size\n",
    "        self.shuffle = shuffle\n",
    "        self.tokenizer = tokenizer\n",
    "        self.descriptions = self.manifest_df.description.values\n",
    "        self.num_classes = num_classes\n",
    "        self.augmenter = augmenter\n",
    "        self.batch_desc = sequence.pad_sequences(self.tokenizer.texts_to_sequences([str(k).lower() for k in self.descriptions]),\n",
    "                    maxlen=description_length,\n",
    "                    dtype=int,\n",
    "                    padding='post',\n",
    "                    truncating='post',\n",
    "                    value=0\n",
    "                )\n",
    "        \n",
    "    @property\n",
    "    def steps_per_epoch(self):\n",
    "        return int(math.ceil(len(self.manifest_df)/self.batch_size))\n",
    "    \n",
    "    def _augment(self, rsds):\n",
    "        return [self.augmenter.augment(rsd) for rsd in rsds]\n",
    "    \n",
    "    def flow_X(self):\n",
    "        while True:\n",
    "            idx = list(range(len(self.manifest_df)))\n",
    "            if self.shuffle:\n",
    "                random.shuffle(idx)\n",
    "\n",
    "            for bidx in batch(idx, self.batch_size):\n",
    "                batch_desc = self.batch_desc[bidx]\n",
    "                 \n",
    "                x = {'desc_input': batch_desc}\n",
    "                \n",
    "                yield x\n",
    "    \n",
    "    def flow(self):\n",
    "        while True:\n",
    "            idx = list(range(len(self.manifest_df)))\n",
    "            if self.shuffle:\n",
    "                random.shuffle(idx)\n",
    "\n",
    "            for bidx in batch(idx, self.batch_size):\n",
    "                labels = self.manifest_df.iloc[bidx]['label_id'].values\n",
    "                batch_desc = self.batch_desc[bidx]\n",
    "                \n",
    "                x = {'desc_input': batch_desc }\n",
    "                \n",
    "                y = np.asarray(labels, dtype=np.int32)\n",
    "                \n",
    "                yield x, y"
   ]
  },
  {
   "cell_type": "code",
   "execution_count": 16,
   "metadata": {},
   "outputs": [],
   "source": [
    "train_gen = DataGenerator(train_df, desc_length, len(labels),\n",
    "                             tokenizer = tokenizer)\n",
    "valid_gen = DataGenerator(valid_df, desc_length, len(labels),\n",
    "                             tokenizer = tokenizer)"
   ]
  },
  {
   "cell_type": "code",
   "execution_count": 19,
   "metadata": {},
   "outputs": [
    {
     "name": "stdout",
     "output_type": "stream",
     "text": [
      "_________________________________________________________________\n",
      "Layer (type)                 Output Shape              Param #   \n",
      "=================================================================\n",
      "desc_input (InputLayer)      (None, 20)                0         \n",
      "_________________________________________________________________\n",
      "embedding_3 (Embedding)      (None, 20, 128)           231552    \n",
      "_________________________________________________________________\n",
      "lstm_3 (LSTM)                (None, 128)               131584    \n",
      "_________________________________________________________________\n",
      "dense_2 (Dense)              (None, 6)                 774       \n",
      "_________________________________________________________________\n",
      "activation_2 (Activation)    (None, 6)                 0         \n",
      "=================================================================\n",
      "Total params: 363,910\n",
      "Trainable params: 363,910\n",
      "Non-trainable params: 0\n",
      "_________________________________________________________________\n"
     ]
    }
   ],
   "source": [
    "num_classes = len(labels)\n",
    "embedding_size = 128\n",
    "learning_rate = 0.001\n",
    "lstm_size = 128\n",
    "\n",
    "def lstm_model(num_classes, embedding_size, learning_rate, lstm_size):\n",
    "    desc_input = Input(shape=(desc_length,), name='desc_input')\n",
    "    \n",
    "    embedding = layers.Embedding(\n",
    "        vocab_size,\n",
    "        embedding_size,\n",
    "        input_length= desc_length,\n",
    "        mask_zero=True,\n",
    "        embeddings_initializer='truncated_normal'\n",
    "    )(desc_input)\n",
    "    \n",
    "    lstm = layers.LSTM(lstm_size)(embedding)\n",
    "    logits = layers.Dense(num_classes)(lstm)\n",
    "    predictions = layers.Activation(activation='softmax')(logits)\n",
    "\n",
    "    model = Model(inputs=[desc_input], outputs=[predictions])\n",
    "    return model\n",
    "\n",
    "lstm_model = lstm_model(num_classes, embedding_size, learning_rate, lstm_size)\n",
    "lstm_model.summary()"
   ]
  },
  {
   "cell_type": "code",
   "execution_count": 22,
   "metadata": {},
   "outputs": [],
   "source": [
    "from keras.utils import multi_gpu_model\n",
    "\n",
    "parallel_model = multi_gpu_model(lstm_model, 8)"
   ]
  },
  {
   "cell_type": "code",
   "execution_count": 23,
   "metadata": {},
   "outputs": [
    {
     "name": "stdout",
     "output_type": "stream",
     "text": [
      "WARNING:tensorflow:From /home/ec2-user/anaconda3/envs/tensorflow_p36/lib/python3.6/site-packages/keras/optimizers.py:790: The name tf.train.Optimizer is deprecated. Please use tf.compat.v1.train.Optimizer instead.\n",
      "\n"
     ]
    }
   ],
   "source": [
    "parallel_model.compile(\n",
    "        loss = 'sparse_categorical_crossentropy',\n",
    "        metrics = ['accuracy'],\n",
    "        optimizer = optimizers.Adam(lr=learning_rate),\n",
    "    )"
   ]
  },
  {
   "cell_type": "code",
   "execution_count": 28,
   "metadata": {},
   "outputs": [
    {
     "name": "stdout",
     "output_type": "stream",
     "text": [
      "Beginning training\n",
      "Epoch 1/30\n",
      "65/65 [==============================] - 25s 382ms/step - loss: 1.5291 - acc: 0.3934 - val_loss: 1.2327 - val_acc: 0.5193\n",
      "Epoch 2/30\n",
      "65/65 [==============================] - 5s 84ms/step - loss: 1.0649 - acc: 0.5782 - val_loss: 1.0692 - val_acc: 0.5522\n",
      "Epoch 3/30\n",
      "65/65 [==============================] - 6s 87ms/step - loss: 0.9153 - acc: 0.6278 - val_loss: 1.0100 - val_acc: 0.5783\n",
      "Epoch 4/30\n",
      "65/65 [==============================] - 5s 84ms/step - loss: 0.8314 - acc: 0.6630 - val_loss: 0.9763 - val_acc: 0.5924\n",
      "Epoch 5/30\n",
      "65/65 [==============================] - 6s 85ms/step - loss: 0.7784 - acc: 0.6832 - val_loss: 0.9599 - val_acc: 0.6141\n",
      "Epoch 6/30\n",
      "65/65 [==============================] - 5s 85ms/step - loss: 0.7288 - acc: 0.7063 - val_loss: 0.9537 - val_acc: 0.6088\n",
      "Epoch 7/30\n",
      "65/65 [==============================] - 5s 84ms/step - loss: 0.6919 - acc: 0.7250 - val_loss: 0.9620 - val_acc: 0.6320\n",
      "Epoch 8/30\n",
      "65/65 [==============================] - 6s 85ms/step - loss: 0.6673 - acc: 0.7388 - val_loss: 0.9334 - val_acc: 0.6368\n",
      "Epoch 9/30\n",
      "65/65 [==============================] - 5s 85ms/step - loss: 0.6354 - acc: 0.7500 - val_loss: 0.9649 - val_acc: 0.6417\n",
      "Epoch 10/30\n",
      "65/65 [==============================] - 5s 84ms/step - loss: 0.6095 - acc: 0.7637 - val_loss: 0.9575 - val_acc: 0.6485\n",
      "Epoch 11/30\n",
      "65/65 [==============================] - 5s 84ms/step - loss: 0.5898 - acc: 0.7683 - val_loss: 0.9591 - val_acc: 0.6475\n",
      "Epoch 12/30\n",
      "65/65 [==============================] - 5s 84ms/step - loss: 0.5766 - acc: 0.7705 - val_loss: 0.9838 - val_acc: 0.6504\n",
      "Epoch 13/30\n",
      "65/65 [==============================] - 5s 84ms/step - loss: 0.5453 - acc: 0.7851 - val_loss: 0.9997 - val_acc: 0.6504\n"
     ]
    },
    {
     "data": {
      "text/plain": [
       "<keras.callbacks.History at 0x7f0860748048>"
      ]
     },
     "execution_count": 28,
     "metadata": {},
     "output_type": "execute_result"
    }
   ],
   "source": [
    "epochs = 30\n",
    "patience = 5\n",
    "model_path = ('model.h5')\n",
    "\n",
    "early_stopping = EarlyStopping(\n",
    "    monitor='val_loss',\n",
    "    patience=patience,\n",
    ")\n",
    "checkpoint = ModelCheckpoint(\n",
    "    model_path, \n",
    "    monitor='val_loss',\n",
    "    save_best_only=True,\n",
    ")\n",
    "\n",
    "logger = CSVLogger('training.log')\n",
    "\n",
    "print('Beginning training')\n",
    "parallel_model.fit_generator(train_gen.flow(), validation_data=valid_gen.flow(),\n",
    "                    steps_per_epoch=train_gen.steps_per_epoch, \n",
    "                    validation_steps=valid_gen.steps_per_epoch,\n",
    "                    callbacks=[early_stopping, checkpoint, logger],\n",
    "                    epochs=epochs)"
   ]
  },
  {
   "cell_type": "code",
   "execution_count": 31,
   "metadata": {},
   "outputs": [
    {
     "name": "stdout",
     "output_type": "stream",
     "text": [
      "27/27 [==============================] - 2s 62ms/step\n"
     ]
    }
   ],
   "source": [
    "test_gen = DataGenerator(test_df, desc_length, len(labels),\n",
    "                             tokenizer = tokenizer, shuffle=False)\n",
    "test_y_pred_raw = parallel_model.predict_generator(test_gen.flow_X(), steps = test_gen.steps_per_epoch, verbose=1)"
   ]
  },
  {
   "cell_type": "code",
   "execution_count": 34,
   "metadata": {},
   "outputs": [],
   "source": [
    "y_pred = np.argmax(test_y_pred_raw, axis=-1)\n",
    "y_conf = np.asarray([test_y_pred_raw[i,p] for i,p in enumerate(y_pred)])\n",
    "y_pred_labels = [labels[i] for i in y_pred]\n",
    "\n",
    "pd.DataFrame({\n",
    "    'description': test_df.description.values,\n",
    "    'y_pred':y_pred_labels,\n",
    "    'y_conf': y_conf,\n",
    "    'y_true':test_df.label.values\n",
    "}).to_csv('results.csv', index=False)"
   ]
  }
 ],
 "metadata": {
  "kernelspec": {
   "display_name": "Python 3",
   "language": "python",
   "name": "python3"
  },
  "language_info": {
   "codemirror_mode": {
    "name": "ipython",
    "version": 3
   },
   "file_extension": ".py",
   "mimetype": "text/x-python",
   "name": "python",
   "nbconvert_exporter": "python",
   "pygments_lexer": "ipython3",
   "version": "3.6.5"
  }
 },
 "nbformat": 4,
 "nbformat_minor": 4
}
